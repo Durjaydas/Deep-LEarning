{
  "nbformat": 4,
  "nbformat_minor": 0,
  "metadata": {
    "colab": {
      "name": "Untitled1.ipynb",
      "provenance": []
    },
    "kernelspec": {
      "name": "python3",
      "display_name": "Python 3"
    }
  },
  "cells": [
    {
      "cell_type": "code",
      "metadata": {
        "id": "c79a6LJUWuqB",
        "colab_type": "code",
        "colab": {}
      },
      "source": [
        "#import necessary library \n",
        "import os\n",
        "from pathlib import Path\n",
        "import torch\n",
        "from torch.utils.data import TensorDataset ,DataLoader\n",
        "from torch import nn,optim\n",
        "import torch.nn.functional as F\n",
        "import numpy as np\n",
        "import pandas as pd\n",
        "from sklearn.model_selection import train_test_split\n",
        "from torchvision import datasets,transforms\n",
        "\n",
        "\n",
        "\n"
      ],
      "execution_count": 0,
      "outputs": []
    },
    {
      "cell_type": "code",
      "metadata": {
        "id": "Meb7t0bZ2Ijj",
        "colab_type": "code",
        "colab": {
          "base_uri": "https://localhost:8080/",
          "height": 34
        },
        "outputId": "5158aa3b-e872-450c-bddd-f9e5a029d97b"
      },
      "source": [
        "# Download and load the training data\n",
        "\n",
        "\n",
        "trainset = datasets.MNIST(root='./data', train=True, transform=transforms.ToTensor(),download=True)\n",
        "train_loader = torch.utils.data.DataLoader(trainset, batch_size=150, shuffle=True)\n",
        "testset=datasets.MNIST(root='./data', train=False, transform=transforms.ToTensor())\n",
        "test_loader = torch.utils.data.DataLoader(testset, batch_size=150, shuffle=False)\n",
        "print(f\"len of trainSet {len(trainset)} , len of testSet {len(testset)}\")"
      ],
      "execution_count": 85,
      "outputs": [
        {
          "output_type": "stream",
          "text": [
            "len of trainSet 60000 , len of testSet 10000\n"
          ],
          "name": "stdout"
        }
      ]
    },
    {
      "cell_type": "code",
      "metadata": {
        "id": "dBWGOkfd1Zl-",
        "colab_type": "code",
        "colab": {}
      },
      "source": [
        ""
      ],
      "execution_count": 0,
      "outputs": []
    },
    {
      "cell_type": "code",
      "metadata": {
        "id": "I-YWaMPzb2sW",
        "colab_type": "code",
        "colab": {}
      },
      "source": [
        "#Build a Network\n",
        "class Network(nn.Module):\n",
        "    def __init__(self):\n",
        "        super().__init__()\n",
        "        self.fc1 = nn.Linear(784, 128)\n",
        "        self.fc2 = nn.Linear(128, 95)\n",
        "        self.fc3 = nn.Linear(95, 64)\n",
        "       \n",
        "        self.fc4 = nn.Linear(64, 10)\n",
        "\n",
        "        # Dropout module with 0.2 drop probability\n",
        "        self.dropout = nn.Dropout(p=0.2)\n",
        "\n",
        "    def forward(self, x):\n",
        "        # make sure input tensor is flattened\n",
        "        x = x.view(x.shape[0], -1)\n",
        "\n",
        "        # Now with dropout\n",
        "        x = self.dropout(F.relu(self.fc1(x)))\n",
        "        x = self.dropout(F.relu(self.fc2(x)))\n",
        "        x = self.dropout(F.relu(self.fc3(x)))\n",
        "        \n",
        "\n",
        "        # output so no dropout here\n",
        "        x = F.log_softmax(self.fc4(x), dim=1)\n",
        "\n",
        "        return x\n",
        "        \n",
        "model=Network()\n",
        "\n",
        "optimizer=optim.SGD(model.parameters(),lr=0.01,weight_decay=1e-6,momentum=0.9,nesterov=True)\n",
        "criterion=nn.NLLLoss()"
      ],
      "execution_count": 0,
      "outputs": []
    },
    {
      "cell_type": "code",
      "metadata": {
        "id": "vi00WEwjdT0m",
        "colab_type": "code",
        "colab": {
          "base_uri": "https://localhost:8080/",
          "height": 187
        },
        "outputId": "d0dace76-df27-4863-c1eb-8a4d8e433164"
      },
      "source": [
        "#Train the Data\n",
        "\n",
        "epochs=10\n",
        "train_losses,test_losses=[],[]\n",
        "for e in range(epochs):\n",
        "    running_loss=0\n",
        "    for images,labels in train_loader:\n",
        "        optimizer.zero_grad()\n",
        "        log_ps=model(images)\n",
        "        loss=criterion(log_ps,labels)\n",
        "        loss.backward()\n",
        "        optimizer.step()\n",
        "        running_loss+=loss.item()\n",
        "        \n",
        "    else:\n",
        "        test_loss=0\n",
        "        accuracy=0\n",
        "        \n",
        "        with torch.no_grad():\n",
        "            model.eval()\n",
        "            for images,labels in test_loader:\n",
        "                log_ps=model(images)\n",
        "                test_loss+=criterion(log_ps,labels)\n",
        "                ps=torch.exp(log_ps)\n",
        "                top_p,top_class=ps.topk(1,dim=1)\n",
        "                equals=top_class==labels.view(*top_class.shape)\n",
        "                accuracy+=torch.mean(equals.type(torch.FloatTensor))\n",
        "        model.train()\n",
        "        train_losses.append(running_loss/len(train_loader))\n",
        "        test_losses.append(test_loss/len(test_loader))\n",
        "\n",
        "        print(\"Epoch: {}/{}.. \".format(e+1, epochs),\n",
        "              \"Training Loss: {:.3f}.. \".format(running_loss/len(train_loader)),\n",
        "              \"Test Loss: {:.3f}.. \".format(test_loss/len(test_loader)),\n",
        "              \"Test Accuracy: {:.3f}\".format(accuracy/len(test_loader))) "
      ],
      "execution_count": 97,
      "outputs": [
        {
          "output_type": "stream",
          "text": [
            "Epoch: 1/10..  Training Loss: 1.364..  Test Loss: 0.396..  Test Accuracy: 0.885\n",
            "Epoch: 2/10..  Training Loss: 0.417..  Test Loss: 0.246..  Test Accuracy: 0.926\n",
            "Epoch: 3/10..  Training Loss: 0.287..  Test Loss: 0.177..  Test Accuracy: 0.947\n",
            "Epoch: 4/10..  Training Loss: 0.229..  Test Loss: 0.148..  Test Accuracy: 0.953\n",
            "Epoch: 5/10..  Training Loss: 0.193..  Test Loss: 0.128..  Test Accuracy: 0.961\n",
            "Epoch: 6/10..  Training Loss: 0.170..  Test Loss: 0.112..  Test Accuracy: 0.965\n",
            "Epoch: 7/10..  Training Loss: 0.150..  Test Loss: 0.105..  Test Accuracy: 0.968\n",
            "Epoch: 8/10..  Training Loss: 0.139..  Test Loss: 0.097..  Test Accuracy: 0.971\n",
            "Epoch: 9/10..  Training Loss: 0.127..  Test Loss: 0.092..  Test Accuracy: 0.973\n",
            "Epoch: 10/10..  Training Loss: 0.117..  Test Loss: 0.086..  Test Accuracy: 0.974\n"
          ],
          "name": "stdout"
        }
      ]
    },
    {
      "cell_type": "code",
      "metadata": {
        "id": "Zl0hdDtRVqNr",
        "colab_type": "code",
        "colab": {
          "base_uri": "https://localhost:8080/",
          "height": 238
        },
        "outputId": "792abf5d-b8c5-482d-a9dc-68f9352e62b9"
      },
      "source": [
        "#save our model\n",
        "print(\"Our model: \\n\\n\", model, '\\n')\n",
        "print(\"The state dict keys: \\n\\n\", model.state_dict().keys())"
      ],
      "execution_count": 98,
      "outputs": [
        {
          "output_type": "stream",
          "text": [
            "Our model: \n",
            "\n",
            " Network(\n",
            "  (fc1): Linear(in_features=784, out_features=128, bias=True)\n",
            "  (fc2): Linear(in_features=128, out_features=95, bias=True)\n",
            "  (fc3): Linear(in_features=95, out_features=64, bias=True)\n",
            "  (fc4): Linear(in_features=64, out_features=10, bias=True)\n",
            "  (dropout): Dropout(p=0.2, inplace=False)\n",
            ") \n",
            "\n",
            "The state dict keys: \n",
            "\n",
            " odict_keys(['fc1.weight', 'fc1.bias', 'fc2.weight', 'fc2.bias', 'fc3.weight', 'fc3.bias', 'fc4.weight', 'fc4.bias'])\n"
          ],
          "name": "stdout"
        }
      ]
    },
    {
      "cell_type": "code",
      "metadata": {
        "id": "U7NQkb0U6jnb",
        "colab_type": "code",
        "colab": {
          "base_uri": "https://localhost:8080/",
          "height": 34
        },
        "outputId": "5efb2201-9887-4b5c-854e-d501c94ba48a"
      },
      "source": [
        "#check number of parameters\n",
        "pytorch_total_params = sum(p.numel() for p in model.parameters())\n",
        "pytorch_total_params"
      ],
      "execution_count": 99,
      "outputs": [
        {
          "output_type": "execute_result",
          "data": {
            "text/plain": [
              "119529"
            ]
          },
          "metadata": {
            "tags": []
          },
          "execution_count": 99
        }
      ]
    },
    {
      "cell_type": "code",
      "metadata": {
        "id": "0y8SLXMS8yhS",
        "colab_type": "code",
        "colab": {}
      },
      "source": [
        ""
      ],
      "execution_count": 0,
      "outputs": []
    }
  ]
}